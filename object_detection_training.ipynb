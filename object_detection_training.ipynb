{
  "cells": [
    {
      "cell_type": "markdown",
      "metadata": {
        "id": "BzZ0iAH--6k6"
      },
      "source": [
        "#### Instalasi Tensorflow Object Detection API"
      ]
    },
    {
      "cell_type": "code",
      "execution_count": null,
      "metadata": {
        "id": "xbkuAjhU-3e6"
      },
      "outputs": [],
      "source": [
        "!git clone https://github.com/tensorflow/models.git"
      ]
    },
    {
      "cell_type": "code",
      "execution_count": null,
      "metadata": {
        "id": "ukzhAgID_gyP"
      },
      "outputs": [],
      "source": [
        "%cd /content/models/research/\n",
        "!protoc object_detection/protos/*.proto --python_out=.\n",
        "\n",
        "# Install TensorFlow Object Detection API.\n",
        "!cp object_detection/packages/tf2/setup.py .\n",
        "!python -m pip install ."
      ]
    },
    {
      "cell_type": "markdown",
      "metadata": {
        "id": "jkZtxPYCXLHu"
      },
      "source": [
        "Test Model builder"
      ]
    },
    {
      "cell_type": "code",
      "execution_count": null,
      "metadata": {
        "id": "XzfZSmpSXMxS"
      },
      "outputs": [],
      "source": [
        "!python /content/models/research/object_detection/builders/model_builder_tf2_test.py"
      ]
    },
    {
      "cell_type": "markdown",
      "metadata": {
        "id": "v2vJZnu8elWM"
      },
      "source": [
        "#### Persiapan file gambar dan anotasi"
      ]
    },
    {
      "cell_type": "code",
      "execution_count": null,
      "metadata": {
        "id": "5yIkwN0MCbAR"
      },
      "outputs": [],
      "source": [
        "%cd /content/"
      ]
    },
    {
      "cell_type": "code",
      "execution_count": null,
      "metadata": {
        "id": "pk9f-kns-K0T"
      },
      "outputs": [],
      "source": [
        "from google.colab import drive\n",
        "drive.mount('/content/drive')"
      ]
    },
    {
      "cell_type": "code",
      "execution_count": null,
      "metadata": {
        "id": "EvFSJNKMWbaK"
      },
      "outputs": [],
      "source": [
        "dataset_path = '/content/drive/MyDrive/Dataset/dataset'\n",
        "\n",
        "%mkdir images annotation\n",
        "%cp -r {dataset_path}/annotation/cocacola annotation\n",
        "%cp -r {dataset_path}/annotation/floridina annotation\n",
        "%cp -r {dataset_path}/annotation/goodday annotation\n",
        "%cp -r {dataset_path}/images/*/*.jpg images\n",
        "%cp -r {dataset_path}/test .\n",
        "%cp {dataset_path}/labelmap.pbtxt ."
      ]
    },
    {
      "cell_type": "markdown",
      "metadata": {
        "id": "uuiHlQdbeuZh"
      },
      "source": [
        "#### Memisahkan data Training "
      ]
    },
    {
      "cell_type": "code",
      "execution_count": null,
      "metadata": {
        "id": "TPDqq6lX_pYy"
      },
      "outputs": [],
      "source": [
        "!pip install split-folders"
      ]
    },
    {
      "cell_type": "code",
      "execution_count": null,
      "metadata": {
        "id": "w-8bUjHXmpE-"
      },
      "outputs": [],
      "source": [
        "!splitfolders --output \"./annotation\" --ratio .8 .2 -- \"./annotation\" "
      ]
    },
    {
      "cell_type": "code",
      "execution_count": null,
      "metadata": {
        "id": "xASsk2zvJFdi"
      },
      "outputs": [],
      "source": [
        "%mkdir train val\n",
        "%mv annotation/train/*/*.xml train/\n",
        "%mv annotation/val/*/*.xml val/"
      ]
    },
    {
      "cell_type": "markdown",
      "metadata": {
        "id": "S8ehxsdke6W_"
      },
      "source": [
        "#### Membuat file anotasi menjadi csv"
      ]
    },
    {
      "cell_type": "code",
      "execution_count": null,
      "metadata": {
        "id": "rMf21AshLB6T"
      },
      "outputs": [],
      "source": [
        "!wget https://raw.githubusercontent.com/nazililham11/detection_util_scripts/master/generate_csv.py"
      ]
    },
    {
      "cell_type": "code",
      "execution_count": null,
      "metadata": {
        "id": "Am4X--GgLFcs"
      },
      "outputs": [],
      "source": [
        "!python generate_csv.py --type xml --input train --output_csv train_labels.csv \n",
        "!python generate_csv.py --type xml --input val --output_csv val_labels.csv "
      ]
    },
    {
      "cell_type": "markdown",
      "metadata": {
        "id": "ro1Mdv6UfNR0"
      },
      "source": [
        "#### Mengubah dataset menjadi bentuk TF Record"
      ]
    },
    {
      "cell_type": "code",
      "execution_count": null,
      "metadata": {
        "id": "tJNKuBPP900U"
      },
      "outputs": [],
      "source": [
        "!wget https://raw.githubusercontent.com/nazililham11/detection_util_scripts/master/generate_tfrecord.py"
      ]
    },
    {
      "cell_type": "code",
      "execution_count": null,
      "metadata": {
        "id": "0WpxPOEd94gS"
      },
      "outputs": [],
      "source": [
        "!python generate_tfrecord.py --csv_input train_labels.csv --pbtxt_input labelmap.pbtxt --image_dir images --output_path train.record\n",
        "!python generate_tfrecord.py --csv_input val_labels.csv --pbtxt_input labelmap.pbtxt --image_dir images --output_path val.record"
      ]
    },
    {
      "cell_type": "code",
      "execution_count": null,
      "metadata": {
        "id": "mUyKPMQzkhOZ"
      },
      "outputs": [],
      "source": [
        "# Pindahkan file yang sudah tidak dibutuhkan\n",
        "%mkdir data \n",
        "%mv -t data *.csv *.py images train val annotation"
      ]
    },
    {
      "cell_type": "markdown",
      "metadata": {
        "id": "dOgMOdcmOzVc"
      },
      "source": [
        "#### Persiapan pre-trained model MobileNet"
      ]
    },
    {
      "cell_type": "code",
      "execution_count": null,
      "metadata": {
        "id": "qafiqrBJG8pF"
      },
      "outputs": [],
      "source": [
        "%cd /content\n",
        "!wget http://download.tensorflow.org/models/object_detection/classification/tf2/20200710/mobilenet_v2.tar.gz\n",
        "!tar -xvf mobilenet_v2.tar.gz\n",
        "!rm mobilenet_v2.tar.gz"
      ]
    },
    {
      "cell_type": "markdown",
      "metadata": {
        "id": "zN5htp-lfoef"
      },
      "source": [
        "#### Persiapan file konfigurasi hyperparameter"
      ]
    },
    {
      "cell_type": "code",
      "execution_count": null,
      "metadata": {
        "id": "6zRvdLDfRGA_"
      },
      "outputs": [],
      "source": [
        "!wget https://raw.githubusercontent.com/tensorflow/models/master/research/object_detection/configs/tf2/ssd_mobilenet_v2_320x320_coco17_tpu-8.config\n",
        "!mv ssd_mobilenet_v2_320x320_coco17_tpu-8.config mobilenet_v2.config"
      ]
    },
    {
      "cell_type": "code",
      "execution_count": null,
      "metadata": {
        "id": "YVps_k4JRGa7"
      },
      "outputs": [],
      "source": [
        "num_classes = 3\n",
        "batch_size = 32\n",
        "num_steps = 13000\n",
        "num_eval_steps = 1000\n",
        "\n",
        "train_record_path = '/content/train.record'\n",
        "test_record_path = '/content/val.record'\n",
        "model_dir = '/content/training/'\n",
        "labelmap_path = '/content/labelmap.pbtxt'\n",
        "\n",
        "pipeline_config_path = 'mobilenet_v2.config'\n",
        "fine_tune_checkpoint = '/content/mobilenet_v2/mobilenet_v2.ckpt-1'"
      ]
    },
    {
      "cell_type": "code",
      "execution_count": null,
      "metadata": {
        "id": "hH9pVN4qfbAb"
      },
      "outputs": [],
      "source": [
        "import re\n",
        "\n",
        "with open(pipeline_config_path) as f:\n",
        "    config = f.read()\n",
        "\n",
        "with open(pipeline_config_path, 'w') as f:\n",
        "  # Set labelmap path\n",
        "  config = re.sub('label_map_path: \".*?\"', \n",
        "             'label_map_path: \"{}\"'.format(labelmap_path), config)\n",
        "    # Set fine_tune_checkpoint path\n",
        "  config = re.sub('fine_tune_checkpoint: \".*?\"',\n",
        "                  'fine_tune_checkpoint: \"{}\"'.format(fine_tune_checkpoint), config)\n",
        "    # Set train tf-record file path\n",
        "  config = re.sub('(input_path: \".*?)(PATH_TO_BE_CONFIGURED/train)(.*?\")', \n",
        "                  'input_path: \"{}\"'.format(train_record_path), config)\n",
        "    # Set test tf-record file path\n",
        "  config = re.sub('(input_path: \".*?)(PATH_TO_BE_CONFIGURED/val)(.*?\")', \n",
        "                  'input_path: \"{}\"'.format(test_record_path), config)\n",
        "    # Set number of classes.\n",
        "  config = re.sub('num_classes: [0-9]+',\n",
        "                  'num_classes: {}'.format(num_classes), config)\n",
        "    # Set batch size\n",
        "  config = re.sub('batch_size: [0-9]+',\n",
        "                  'batch_size: {}'.format(batch_size), config)\n",
        "    # Set training steps\n",
        "  config = re.sub('num_steps: [0-9]+',\n",
        "                  'num_steps: {}'.format(num_steps), config)\n",
        "  f.write(config)"
      ]
    },
    {
      "cell_type": "markdown",
      "metadata": {
        "id": "JeSTl0nHW84U"
      },
      "source": [
        "#### Fix error saat proses training (Optional)"
      ]
    },
    {
      "cell_type": "code",
      "execution_count": null,
      "metadata": {
        "id": "dFP3z3D-CbAm"
      },
      "outputs": [],
      "source": [
        "# ImportError: cannot import name '_registerMatType' from 'cv2.cv2'\n",
        "!pip install opencv-python-headless==4.1.2.30"
      ]
    },
    {
      "cell_type": "code",
      "execution_count": null,
      "metadata": {
        "id": "MhgWB-S441Fu"
      },
      "outputs": [],
      "source": [
        "# Error DNN library is not found\n",
        "!apt install --allow-change-held-packages libcudnn8=8.1.0.77-1+cuda11.2"
      ]
    },
    {
      "cell_type": "markdown",
      "metadata": {
        "id": "jHxMKaxfhGyU"
      },
      "source": [
        "#### Training"
      ]
    },
    {
      "cell_type": "code",
      "execution_count": null,
      "metadata": {
        "id": "8Dx_wEykfpuv"
      },
      "outputs": [],
      "source": [
        "!python /content/models/research/object_detection/model_main_tf2.py \\\n",
        "    --pipeline_config_path={pipeline_config_path} \\\n",
        "    --model_dir={model_dir} \\\n",
        "    --alsologtostderr \\\n",
        "    --num_train_steps={num_steps} \\\n",
        "    --sample_1_of_n_eval_examples=1 \\\n",
        "    --num_eval_steps={num_eval_steps}"
      ]
    },
    {
      "cell_type": "markdown",
      "metadata": {
        "id": "6UBxLRR5RttK"
      },
      "source": [
        "#### Validation"
      ]
    },
    {
      "cell_type": "code",
      "execution_count": null,
      "metadata": {
        "id": "NR_ASWHFRvEt"
      },
      "outputs": [],
      "source": [
        "!python /content/models/research/object_detection/model_main_tf2.py \\\n",
        "    --pipeline_config_path={pipeline_config_path} \\\n",
        "    --model_dir={model_dir} \\\n",
        "    --checkpoint_dir={model_dir}"
      ]
    },
    {
      "cell_type": "markdown",
      "metadata": {
        "id": "JxvpnTruphye"
      },
      "source": [
        "#### Menampilkan hasil training pada Tensorboard"
      ]
    },
    {
      "cell_type": "code",
      "execution_count": null,
      "metadata": {
        "id": "e_ZSdvMzRGsq"
      },
      "outputs": [],
      "source": [
        "%load_ext tensorboard\n",
        "%tensorboard --logdir '/content/training/'"
      ]
    },
    {
      "cell_type": "markdown",
      "metadata": {
        "id": "U46GeXhxhBdb"
      },
      "source": [
        "#### Eksport model"
      ]
    },
    {
      "cell_type": "code",
      "execution_count": null,
      "metadata": {
        "id": "cRJxDZ36XdKw"
      },
      "outputs": [],
      "source": [
        "output_directory = 'inference_graph'\n",
        "\n",
        "!python /content/models/research/object_detection/exporter_main_v2.py \\\n",
        "    --trained_checkpoint_dir {model_dir} \\\n",
        "    --output_directory {output_directory} \\\n",
        "    --pipeline_config_path {pipeline_config_path}"
      ]
    },
    {
      "cell_type": "markdown",
      "metadata": {
        "id": "pnGFb9nleIJ8"
      },
      "source": [
        "#### Testing model"
      ]
    },
    {
      "cell_type": "code",
      "execution_count": null,
      "metadata": {
        "id": "Sn1qzpWKRG0R"
      },
      "outputs": [],
      "source": [
        "!wget https://raw.githubusercontent.com/hugozanini/object-detection/master/inferenceutils.py\n",
        "from inferenceutils import *"
      ]
    },
    {
      "cell_type": "code",
      "execution_count": null,
      "metadata": {
        "id": "xiqxI1qK2Smu"
      },
      "outputs": [],
      "source": [
        "output_directory = 'inference_graph/'\n",
        "test_dataset_directory = 'test/'"
      ]
    },
    {
      "cell_type": "code",
      "execution_count": null,
      "metadata": {
        "id": "Iejp6C20mndZ"
      },
      "outputs": [],
      "source": [
        "category_index = label_map_util.create_category_index_from_labelmap(labelmap_path, use_display_name=True)\n",
        "tf.keras.backend.clear_session()\n",
        "model = tf.saved_model.load(f'/content/{output_directory}/saved_model')"
      ]
    },
    {
      "cell_type": "code",
      "execution_count": null,
      "metadata": {
        "id": "BM2XARWNTrPU"
      },
      "outputs": [],
      "source": [
        "import os\n",
        "images = []\n",
        "for item in os.listdir(test_dataset_directory):\n",
        "    if os.path.isfile(test_dataset_directory + item):\n",
        "        images.append(item)\n",
        "        \n",
        "print(images)\n",
        "print(len(images))"
      ]
    },
    {
      "cell_type": "code",
      "execution_count": null,
      "metadata": {
        "colab": {
          "background_save": true
        },
        "id": "Yi5oxETyk8PP"
      },
      "outputs": [],
      "source": [
        "for image_name in images:\n",
        "  \n",
        "    image_np = load_image_into_numpy_array(test_dataset_directory + image_name)\n",
        "    output_dict = run_inference_for_single_image(model, image_np)\n",
        "    vis_util.visualize_boxes_and_labels_on_image_array(\n",
        "        image_np,\n",
        "        output_dict['detection_boxes'],\n",
        "        output_dict['detection_classes'],\n",
        "        output_dict['detection_scores'],\n",
        "        category_index,\n",
        "        max_boxes_to_draw=200,\n",
        "        min_score_thresh=.50,\n",
        "        agnostic_mode=False,\n",
        "        instance_masks=output_dict.get('detection_masks_reframed', None),\n",
        "        use_normalized_coordinates=True,\n",
        "        line_thickness=8)\n",
        "    display(Image.fromarray(image_np))"
      ]
    },
    {
      "cell_type": "markdown",
      "metadata": {
        "id": "RcnotuduIHer"
      },
      "source": [
        "#### Export ke TFJS Model"
      ]
    },
    {
      "cell_type": "code",
      "execution_count": null,
      "metadata": {
        "id": "MD38T4bHIHEQ"
      },
      "outputs": [],
      "source": [
        "!pip install tensorflowjs==2.8.0"
      ]
    },
    {
      "cell_type": "code",
      "execution_count": null,
      "metadata": {
        "id": "IXp4FoTZJkqN"
      },
      "outputs": [],
      "source": [
        "!tensorflowjs_converter \\\n",
        "    --input_format=tf_saved_model \\\n",
        "    --output_format=tfjs_graph_model \\\n",
        "    --signature_name=serving_default \\\n",
        "    --saved_model_tags=serve \\\n",
        "    /content/inference_graph/saved_model \\\n",
        "    /content/tfjs_model"
      ]
    },
    {
      "cell_type": "code",
      "execution_count": null,
      "metadata": {
        "id": "LxSs-T8UMeS1"
      },
      "outputs": [],
      "source": [
        "!zip -r /content/tfjs_model.zip tfjs_model/"
      ]
    },
    {
      "cell_type": "markdown",
      "metadata": {
        "id": "JgyAlttij8R_"
      },
      "source": [
        "Download TFJS Model"
      ]
    },
    {
      "cell_type": "code",
      "execution_count": null,
      "metadata": {
        "id": "mQT4jLaVMx86"
      },
      "outputs": [],
      "source": [
        "from google.colab import files\n",
        "files.download(\"/content/web_model.zip\")"
      ]
    },
    {
      "cell_type": "markdown",
      "metadata": {
        "id": "RQ4nCG2QaUrk"
      },
      "source": [
        "#### Backup / Download waight"
      ]
    },
    {
      "cell_type": "code",
      "execution_count": null,
      "metadata": {
        "id": "BqgiuAVsHFIK"
      },
      "outputs": [],
      "source": [
        "!zip -r /content/saved_model.zip /content/inference_graph/saved_model/"
      ]
    },
    {
      "cell_type": "markdown",
      "metadata": {
        "id": "ECBUJJjbi7rP"
      },
      "source": [
        "Download"
      ]
    },
    {
      "cell_type": "code",
      "execution_count": null,
      "metadata": {
        "id": "2ecN2ZoXaWJp"
      },
      "outputs": [],
      "source": [
        "from google.colab import files\n",
        "files.download(\"/content/saved_model.zip\")"
      ]
    },
    {
      "cell_type": "markdown",
      "metadata": {
        "id": "czs2I2pJi3qc"
      },
      "source": [
        "Backup ke Google Drive"
      ]
    },
    {
      "cell_type": "code",
      "execution_count": null,
      "metadata": {
        "id": "mhl1FRSQi2GA"
      },
      "outputs": [],
      "source": [
        "%cp /content/saved_model.zip /content/drive/MyDrive/Dataset/saved_model.zip"
      ]
    },
    {
      "cell_type": "markdown",
      "metadata": {
        "id": "begNAi5lvqs3"
      },
      "source": [
        "##### Restore weights"
      ]
    },
    {
      "cell_type": "code",
      "execution_count": null,
      "metadata": {
        "id": "mK0HRhttviPd"
      },
      "outputs": [],
      "source": [
        "%cp /content/drive/MyDrive/Dataset/saved_model.zip .\n",
        "!unzip saved_model.zip -d /"
      ]
    },
    {
      "cell_type": "markdown",
      "metadata": {
        "id": "EPtldBFZZkrk"
      },
      "source": [
        "### References\n",
        "\n",
        "Blog post: https://towardsdatascience.com/custom-real-time-object-detection-in-the-browser-using-tensorflow-js-5ca90538eace\n",
        "\n",
        "Blog post: https://gilberttanner.com/blog/tensorflow-object-detection-with-tensorflow-2-creating-a-custom-model\n",
        "\n",
        "Notebook: https://github.com/TannerGilbert/Tensorflow-Object-Detection-API-Train-Model/blob/master/Tensorflow_2_Object_Detection_Train_model.ipynb\n",
        "\n",
        "Blog post: https://medium.com/swlh/image-object-detection-tensorflow-2-object-detection-api-af7244d4c34e\n",
        "\n",
        "Notebook: https://github.com/TannerGilbert/Tensorflow-Object-Detection-API-Train-Model/blob/master/Tensorflow_2_Object_Detection_Train_model.ipynb\n",
        "\n",
        "Model Zoo: https://github.com/tensorflow/models/blob/master/research/object_detection/g3doc/tf2_detection_zoo.md\n",
        "\n",
        "Models configs: https://github.com/tensorflow/models/tree/master/research/object_detection/configs/tf2\n",
        "\n",
        "Object Detection API Demo : https://github.com/tensorflow/models/blob/master/research/object_detection/colab_tutorials/object_detection_tutorial.ipynb \n",
        "\n",
        "Inference from saved model tf2 colab: https://github.com/tensorflow/models/blob/master/research/object_detection/colab_tutorials/inference_from_saved_model_tf2_colab.ipynb\n",
        "\n",
        "MobileNet in Browser: https://gist.github.com/woudsma/d01eeda8998c9ab972d05ec9e9843886\n",
        "\n",
        "TFJS Converter: https://github.com/tensorflow/tfjs/tree/master/tfjs-converter\n"
      ]
    }
  ],
  "metadata": {
    "accelerator": "GPU",
    "colab": {
      "collapsed_sections": [
        "BzZ0iAH--6k6",
        "v2vJZnu8elWM",
        "uuiHlQdbeuZh",
        "RcnotuduIHer",
        "RQ4nCG2QaUrk",
        "EPtldBFZZkrk"
      ],
      "provenance": []
    },
    "gpuClass": "standard",
    "kernelspec": {
      "display_name": "Python 3",
      "name": "python3"
    }
  },
  "nbformat": 4,
  "nbformat_minor": 0
}